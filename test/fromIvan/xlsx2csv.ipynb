{
 "cells": [
  {
   "cell_type": "code",
   "execution_count": 3,
   "metadata": {},
   "outputs": [],
   "source": [
    "import pandas as pd\n",
    "import numpy as np"
   ]
  },
  {
   "cell_type": "code",
   "execution_count": 4,
   "metadata": {},
   "outputs": [
    {
     "name": "stdout",
     "output_type": "stream",
     "text": [
      "240\n",
      "48.0\n",
      "0       RE + 4/1/1\n",
      "1                1\n",
      "2                2\n",
      "3                3\n",
      "4                4\n",
      "          ...     \n",
      "235    RE - 4/1/14\n",
      "236              1\n",
      "237              2\n",
      "238              3\n",
      "239              4\n",
      "Name: 0, Length: 240, dtype: object\n"
     ]
    }
   ],
   "source": [
    "# Load the Excel file, skip the first two rows\n",
    "xlsx_data = pd.read_excel('/afs/cern.ch/user/j/joshin/public/Workspace-RPC/tools/geometry/fromIvan/RPC_Coord_240722.xlsx', header=None)\n",
    "\n",
    "#print(xlsx_data)\n",
    "#print(xlsx_data.columns)\n",
    "print(len(xlsx_data))\n",
    "print(len(xlsx_data) / 5)\n",
    "print(xlsx_data[0])"
   ]
  },
  {
   "cell_type": "code",
   "execution_count": 5,
   "metadata": {},
   "outputs": [],
   "source": [
    "import csv\n",
    "\n",
    "def is_nan(value):\n",
    "    return value != value  # NaN values are not equal to themselves\n",
    "\n",
    "header = 'roll_name, x1, y1, z1, x2, y2, z2, x3, y3, z3, x4, y4, z4'.split(', ')\n",
    "data = []\n",
    "\n",
    "for ring_idx in [0, 5, 10]:\n",
    "    for idx in range(0, len(xlsx_data), 5):\n",
    "        roll_name = xlsx_data[ring_idx + 0][idx]\n",
    "        if type(roll_name) is str: \n",
    "            roll_name = roll_name.replace(\" \", \"\")\n",
    "        x1 = xlsx_data[ring_idx + 1][idx + 1] / 10\n",
    "        y1 = xlsx_data[ring_idx + 2][idx + 1] / 10\n",
    "        z1 = xlsx_data[ring_idx + 3][idx + 1] / 10\n",
    "        x2 = xlsx_data[ring_idx + 1][idx + 2] / 10\n",
    "        y2 = xlsx_data[ring_idx + 2][idx + 2] / 10\n",
    "        z2 = xlsx_data[ring_idx + 3][idx + 2] / 10\n",
    "        x3 = xlsx_data[ring_idx + 1][idx + 3] / 10\n",
    "        y3 = xlsx_data[ring_idx + 2][idx + 3] / 10\n",
    "        z3 = xlsx_data[ring_idx + 3][idx + 3] / 10\n",
    "        x4 = xlsx_data[ring_idx + 1][idx + 4] / 10\n",
    "        y4 = xlsx_data[ring_idx + 2][idx + 4] / 10\n",
    "        z4 = xlsx_data[ring_idx + 3][idx + 4] / 10\n",
    "        \n",
    "        row = [roll_name, x1, y1, z1, x2, y2, z2, x3, y3, z3, x4, y4, z4]\n",
    "        # Check for NaN values and skip this row if any are found\n",
    "        if any(is_nan(value) for value in row): continue\n",
    "        data.append(row)\n",
    "\n",
    "df_data = pd.DataFrame(data, columns=header).sort_values('roll_name')\n",
    "\n",
    "df_data.to_csv('/afs/cern.ch/user/j/joshin/public/Workspace-RPC/tools/geometry/csv/from_Ivan_240722.csv', index=False)"
   ]
  }
 ],
 "metadata": {
  "kernelspec": {
   "display_name": "Python 3",
   "language": "python",
   "name": "python3"
  },
  "language_info": {
   "codemirror_mode": {
    "name": "ipython",
    "version": 3
   },
   "file_extension": ".py",
   "mimetype": "text/x-python",
   "name": "python",
   "nbconvert_exporter": "python",
   "pygments_lexer": "ipython3",
   "version": "3.11.9"
  }
 },
 "nbformat": 4,
 "nbformat_minor": 2
}
